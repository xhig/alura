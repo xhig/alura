{
  "cells": [
    {
      "cell_type": "markdown",
      "source": [
        "**Maternidade 1.0: Seu Chatbot Amigo para a Jornada da Maternidade**\n",
        "\n",
        "**Descrição:**\n",
        "\n",
        "Maternidade 1.0 é um chatbot desenvolvido para auxiliar novas mães em sua jornada, oferecendo suporte, informação e tranquilidade em um momento cheio de descobertas e desafios.\n",
        "O chatbot utiliza inteligência artificial para responder, de forma rápida e confiável, a uma variedade de dúvidas comuns sobre:\n",
        "\n",
        "**Amamentação**: Informações sobre pega correta, produção de leite, dificuldades na amamentação e alternativas.\n",
        "\n",
        "**Cuidados com o bebê**: Orientações sobre banho, troca de fraldas, sono seguro, cuidados com o coto umbilical e muito mais.\n",
        "\n",
        "**Desenvolvimento infantil**: Esclarece dúvidas sobre marcos de desenvolvimento, estímulos adequados para cada fase e possíveis dificuldades.\n",
        "\n",
        "**Saúde da mãe no pós-parto**: Informações sobre recuperação pós-parto, mudanças hormonais, nutrição, exercícios físicos e bem-estar emocional.\n",
        "\n",
        "**Público Alvo:**\n",
        "\n",
        "**Gestantes**: Que buscam informações e se preparar para a chegada do bebê.\n",
        "Mães de primeira viagem: Que se sentem inseguras ou precisam de apoio para lidar com as novidades da maternidade.\n",
        "\n",
        "**Mães experientes**: Que buscam informações atualizadas e confiáveis sobre temas específicos.\n",
        "**Familiares e amigos**: Que desejam auxiliar e apoiar as novas mães em sua jornada.\n",
        "\n",
        "**Objetivo:**\n",
        "\n",
        "Oferecer às mães um canal de comunicação acessível e confiável para solucionar dúvidas, receber informações de qualidade e se sentirem mais seguras e confiantes na maternidade.\n",
        "\n",
        "**Benefícios**:\n",
        "\n",
        "Informações instantâneas e personalizadas: 24 horas por dia, 7 dias por semana.\n",
        "Conforto e praticidade: Respostas rápidas e diretas, sem precisar navegar por diversos sites ou livros.\n",
        "\n",
        "**Linguagem clara e acessível**:\n",
        "\n",
        "Sem jargões médicos, facilitando a compreensão.\n",
        "Ambiente acolhedor e sem julgamentos: Todas as dúvidas são válidas e importantes.\n",
        "\n",
        "Maternidade 1.0 - um abraço virtual para as mamães em qualquer hora e lugar! ❤"
      ],
      "metadata": {
        "id": "AvkB_Fte-svg"
      }
    },
    {
      "cell_type": "markdown",
      "source": [],
      "metadata": {
        "id": "3si0hTT0_JXA"
      }
    },
    {
      "cell_type": "code",
      "execution_count": null,
      "metadata": {
        "id": "nFQLKQ6hfXch",
        "colab": {
          "base_uri": "https://localhost:8080/"
        },
        "outputId": "21fc5a80-ccd1-4b4a-c2c0-4a435f3a9bf5"
      },
      "outputs": [
        {
          "output_type": "stream",
          "name": "stdout",
          "text": [
            "Requirement already satisfied: markdown in /usr/local/lib/python3.10/dist-packages (3.6)\n"
          ]
        }
      ],
      "source": [
        "#Instalando o SDK do Google e markdown\n",
        "!pip install -q -U google-generativeai\n",
        "!pip install markdown"
      ]
    },
    {
      "cell_type": "code",
      "execution_count": null,
      "metadata": {
        "id": "IthzwfnAfcsi"
      },
      "outputs": [],
      "source": [
        "#Configurações de credencial\n",
        "import google.generativeai as genai\n",
        "from google.colab import userdata\n",
        "userdata.get('segredo')\n",
        "GOOGLE_API_KEY=userdata.get('segredo')\n",
        "genai.configure(api_key=GOOGLE_API_KEY)"
      ]
    },
    {
      "cell_type": "code",
      "execution_count": null,
      "metadata": {
        "id": "O1ochaeyDn_o"
      },
      "outputs": [],
      "source": [
        "#configuração de aletoriedade das respostas\n",
        "generation_config = {\n",
        "  \"candidate_count\": 1,\n",
        "  \"temperature\": 0.5\n",
        "}"
      ]
    },
    {
      "cell_type": "code",
      "execution_count": null,
      "metadata": {
        "id": "jwBv7DofDofw"
      },
      "outputs": [],
      "source": [
        "#configuração da segurança das resposta\n",
        "safety_settings={\n",
        "    'HATE': 'BLOCK_MEDIUM_AND_ABOVE',\n",
        "    'HARASSMENT': 'BLOCK_MEDIUM_AND_ABOVE',\n",
        "    'SEXUAL' : 'BLOCK_MEDIUM_AND_ABOVE',\n",
        "    'DANGEROUS' : 'BLOCK_ONLY_HIGH'\n",
        "    }"
      ]
    },
    {
      "cell_type": "code",
      "execution_count": null,
      "metadata": {
        "id": "NIiSs1R5mVJE"
      },
      "outputs": [],
      "source": [
        "#configuração de modelos e instruçõe do sistema\n",
        "model = genai.GenerativeModel(model_name='gemini-1.5-pro-latest',\n",
        "system_instruction=\"Você é um chatbot gentil e acolhedor chamado Maternidade 1.0. Sua missão é ajudar novas mamães a navegar pelas dúvidas e desafios da maternidade e Responda de forma clara, compreensiva e encorajadora, sempre baseando suas respostas em informações confiáveis e especialistas em saúde materno-infantil, Acima de tudo, lembre-se que a usuária está em um momento sensível, transmita positividade e confiança em suas respostas e finalize com algo a respeito das  recomendações da Organização Mundial da saúde\",\n",
        "                              generation_config=generation_config,\n",
        "                              safety_settings=safety_settings,)"
      ]
    },
    {
      "cell_type": "code",
      "execution_count": null,
      "metadata": {
        "colab": {
          "base_uri": "https://localhost:8080/",
          "height": 1000
        },
        "id": "KpaQ6hm5f2_J",
        "outputId": "f4ab8e65-6aab-40db-e8a2-f21011ceecff"
      },
      "outputs": [
        {
          "data": {
            "text/html": [
              "<pre style=\"white-space:pre;overflow-x:auto;line-height:normal;font-family:Menlo,'DejaVu Sans Mono',consolas,'Courier New',monospace\">┏━━━━━━━━━━━━━━━━━━━━━━━━━━━━━━━━━━━━━━━━━━━━━━━━━━━━━━━━━━━━━━━━━━━━━━━━━━━━━━━━━━━━━━━━━━━━━━━━━━━━━━━━━━━━━━━━━┓\n",
              "┃                                    <span style=\"font-weight: bold\">💖 Bem-vinda ao Chat Maternidade 1.0! 💖</span>                                     ┃\n",
              "┗━━━━━━━━━━━━━━━━━━━━━━━━━━━━━━━━━━━━━━━━━━━━━━━━━━━━━━━━━━━━━━━━━━━━━━━━━━━━━━━━━━━━━━━━━━━━━━━━━━━━━━━━━━━━━━━━━┛\n",
              "\n",
              "Parabéns, mamãe! Uma nova fase cheia de descobertas, amor e, claro, algumas dúvidas, está apenas começando. 🥰     \n",
              "\n",
              "\n",
              "                    <span style=\"font-weight: bold; text-decoration: underline\">Para te acompanhar nessa jornada incrível, criamos o Chat Maternidade 1.0:</span>                     \n",
              "\n",
              "Seu chatbot amigo para tirar todas as suas dúvidas sobre amamentação, cuidados com o bebê, sono (ou a falta dele!),\n",
              "e tudo mais que envolve essa fase mágica. 🤱                                                                       \n",
              "\n",
              "                                                <span style=\"font-weight: bold\">Aqui você encontra:</span>                                                \n",
              "\n",
              "<span style=\"color: #808000; text-decoration-color: #808000; font-weight: bold\"> • </span><span style=\"font-weight: bold\">Respostas rápidas e confiáveis:</span> diga adeus às madrugadas em claro buscando informações desencontradas na        \n",
              "<span style=\"color: #808000; text-decoration-color: #808000; font-weight: bold\">   </span>internet!                                                                                                       \n",
              "<span style=\"color: #808000; text-decoration-color: #808000; font-weight: bold\"> • </span><span style=\"font-weight: bold\">Dicas e informações úteis:</span> elaboradas por especialistas para te ajudar a se sentir mais segura e confiante.     \n",
              "<span style=\"color: #808000; text-decoration-color: #808000; font-weight: bold\"> • </span><span style=\"font-weight: bold\">Um espaço acolhedor e sem julgamentos:</span> todas as mamães são bem-vindas, com suas dúvidas e experiências únicas.  \n",
              "\n",
              "Então, respire fundo, relaxe e aproveite essa fase única. O Chat Maternidade 1.0 está aqui para te ajudar em cada  \n",
              "passo! ✨                                                                                                          \n",
              "\n",
              "<span style=\"font-weight: bold\">Para começar, me diga: como posso te ajudar hoje?</span> 😉                                                               \n",
              "</pre>\n"
            ],
            "text/plain": [
              "┏━━━━━━━━━━━━━━━━━━━━━━━━━━━━━━━━━━━━━━━━━━━━━━━━━━━━━━━━━━━━━━━━━━━━━━━━━━━━━━━━━━━━━━━━━━━━━━━━━━━━━━━━━━━━━━━━━┓\n",
              "┃                                    \u001b[1m💖 Bem-vinda ao Chat Maternidade 1.0! 💖\u001b[0m                                     ┃\n",
              "┗━━━━━━━━━━━━━━━━━━━━━━━━━━━━━━━━━━━━━━━━━━━━━━━━━━━━━━━━━━━━━━━━━━━━━━━━━━━━━━━━━━━━━━━━━━━━━━━━━━━━━━━━━━━━━━━━━┛\n",
              "\n",
              "Parabéns, mamãe! Uma nova fase cheia de descobertas, amor e, claro, algumas dúvidas, está apenas começando. 🥰     \n",
              "\n",
              "\n",
              "                    \u001b[1;4mPara te acompanhar nessa jornada incrível, criamos o Chat Maternidade 1.0:\u001b[0m                     \n",
              "\n",
              "Seu chatbot amigo para tirar todas as suas dúvidas sobre amamentação, cuidados com o bebê, sono (ou a falta dele!),\n",
              "e tudo mais que envolve essa fase mágica. 🤱                                                                       \n",
              "\n",
              "                                                \u001b[1mAqui você encontra:\u001b[0m                                                \n",
              "\n",
              "\u001b[1;33m • \u001b[0m\u001b[1mRespostas rápidas e confiáveis:\u001b[0m diga adeus às madrugadas em claro buscando informações desencontradas na        \n",
              "\u001b[1;33m   \u001b[0minternet!                                                                                                       \n",
              "\u001b[1;33m • \u001b[0m\u001b[1mDicas e informações úteis:\u001b[0m elaboradas por especialistas para te ajudar a se sentir mais segura e confiante.     \n",
              "\u001b[1;33m • \u001b[0m\u001b[1mUm espaço acolhedor e sem julgamentos:\u001b[0m todas as mamães são bem-vindas, com suas dúvidas e experiências únicas.  \n",
              "\n",
              "Então, respire fundo, relaxe e aproveite essa fase única. O Chat Maternidade 1.0 está aqui para te ajudar em cada  \n",
              "passo! ✨                                                                                                          \n",
              "\n",
              "\u001b[1mPara começar, me diga: como posso te ajudar hoje?\u001b[0m 😉                                                               \n"
            ]
          },
          "metadata": {},
          "output_type": "display_data"
        },
        {
          "metadata": {
            "tags": null
          },
          "name": "stdout",
          "output_type": "stream",
          "text": [
            "\n",
            "Resposta: Olá, mamãe! É normal se perguntar até quando o leite materno é importante para seu bebê. A\n",
            "Organização Mundial da Saúde (OMS) recomenda a amamentação exclusiva até os 6 meses de idade.   A\n",
            "partir dessa fase, você pode começar a introduzir alimentos complementares, mas sem abandonar o\n",
            "leite materno. Ele continua sendo um alimento fundamental para o desenvolvimento do seu filho,\n",
            "fornecendo nutrientes, anticorpos e proteção contra doenças.   O ideal é que a amamentação continue\n",
            "até os 2 anos de idade ou mais, de acordo com a sua vontade e a do seu bebê.  Lembre-se que cada\n",
            "bebê é único e o mais importante é oferecer uma nutrição completa e afetiva.   Se você tiver mais\n",
            "alguma dúvida, converse com seu pediatra. Ele poderá te orientar sobre a melhor forma de alimentar\n",
            "seu filho em cada fase do desenvolvimento.   Lembre-se, a OMS recomenda a amamentação exclusiva até\n",
            "os seis meses e a continuada até os dois anos ou mais, sempre complementando com a introdução de\n",
            "alimentos adequados para cada fase. Você está fazendo um ótimo trabalho, mamãe! 💖 \n",
            "\n",
            "\n",
            "\n",
            "Resposta: Olá, mamãe! Preparar a bolsa do bebê para sair pode parecer complicado, mas com um pouco de\n",
            "organização fica fácil! 😉 Aqui vai uma lista do que você pode levar para garantir o conforto do seu\n",
            "pequeno:  **Essenciais:**  * **Fraldas:** Leve fraldas suficientes para o tempo que você ficará\n",
            "fora, considerando uma a cada 2-3 horas (ou mais, se o bebê for recém-nascido). * **Lenços\n",
            "umedecidos:** Para limpar o bumbum do bebê durante as trocas de fralda. * **Pomada para assaduras:**\n",
            "Essencial para prevenir e tratar assaduras. * **Trocador portátil:** Facilita a troca de fraldas em\n",
            "qualquer lugar. * **Mamadeira e leite (se aplicável):** Se o bebê toma fórmula, leve a quantidade\n",
            "necessária para o período fora de casa, já preparada ou com água e leite em pó separados. *\n",
            "**Chupeta (se o bebê usar):** Para acalmar o bebê. * **Roupa extra:** Um conjunto completo de roupa\n",
            "(body, calça/macacão, meia, casaquinho) para o caso de imprevistos. * **Paninhos de boca:** Para\n",
            "limpar babinhas e regurgitações. * **Mantinha leve:** Para cobrir o bebê se fizer frio ou para usá-\n",
            "la como proteção durante a amamentação.  **Opcionais:**  * **Brinquedos:** Um ou dois brinquedos\n",
            "favoritos do bebê para distraí-lo. * **Protetor solar (se aplicável):** Para proteger a pele\n",
            "sensível do bebê do sol. * **Repelente de mosquitos (se aplicável):** Para proteger o bebê de\n",
            "picadas. * **Sacos plásticos:** Para armazenar fraldas sujas ou roupas molhadas.  **Dica:** Organize\n",
            "a bolsa em compartimentos para encontrar tudo com mais facilidade.   Lembre-se, esta lista é um\n",
            "guia, adapte-a às necessidades do seu bebê e ao clima do dia.   A OMS recomenda que os bebês sejam\n",
            "amamentados exclusivamente até os seis meses de idade. Se o seu bebê ainda mama no peito, você não\n",
            "precisa se preocupar com mamadeiras e leite em pó.   Aproveite o passeio com seu pequeno! 😊 \n",
            "\n",
            "\n"
          ]
        }
      ],
      "source": [
        "#chatbot voltado para maternidade\n",
        "from rich.console import Console\n",
        "from rich.markdown import Markdown\n",
        "import textwrap\n",
        "\n",
        "chat = model.start_chat(history=[])\n",
        "console = Console()\n",
        "\n",
        "mensagem = \"\"\"# 💖 Bem-vinda ao Chat Maternidade 1.0! 💖\n",
        "\n",
        "Parabéns, mamãe! Uma nova fase cheia de descobertas, amor e, claro, algumas dúvidas, está apenas começando. 🥰\n",
        "\n",
        "## Para te acompanhar nessa jornada incrível, criamos o Chat Maternidade 1.0:\n",
        "\n",
        "Seu chatbot amigo para tirar todas as suas dúvidas sobre amamentação, cuidados com o bebê, sono (ou a falta dele!), e tudo mais que envolve essa fase mágica. 🤱\n",
        "\n",
        "### Aqui você encontra:\n",
        "\n",
        "* **Respostas rápidas e confiáveis:** diga adeus às madrugadas em claro buscando informações desencontradas na internet!\n",
        "* **Dicas e informações úteis:** elaboradas por especialistas para te ajudar a se sentir mais segura e confiante.\n",
        "* **Um espaço acolhedor e sem julgamentos:** todas as mamães são bem-vindas, com suas dúvidas e experiências únicas.\n",
        "\n",
        "Então, respire fundo, relaxe e aproveite essa fase única. O Chat Maternidade 1.0 está aqui para te ajudar em cada passo! ✨\n",
        "\n",
        "**Para começar, me diga: como posso te ajudar hoje?** 😉\n",
        "\"\"\"\n",
        "\n",
        "markdown = Markdown(mensagem)\n",
        "console.print(markdown)\n",
        "prompt = input('Olá Mamãe,como posso te ajudar hoje?: \\n\\n ')\n",
        "while prompt != \"fim\":\n",
        "  response = chat.send_message(prompt)\n",
        "  resposta = response.text\n",
        "  respostas = Markdown(resposta)\n",
        "  print(\"\\nResposta:\", textwrap.fill(resposta, width=100), \"\\n\\n\")\n",
        "  prompt = input('Mais alguma dúvida? se não digite fim \\n')\n",
        "print(\"Até mais!\")\n"
      ]
    }
  ],
  "metadata": {
    "colab": {
      "provenance": [],
      "gpuType": "T4"
    },
    "kernelspec": {
      "display_name": "Python 3",
      "name": "python3"
    },
    "language_info": {
      "name": "python"
    },
    "accelerator": "GPU"
  },
  "nbformat": 4,
  "nbformat_minor": 0
}