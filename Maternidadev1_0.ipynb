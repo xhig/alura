{
  "cells": [
    {
      "cell_type": "markdown",
      "metadata": {
        "id": "view-in-github",
        "colab_type": "text"
      },
      "source": [
        "<a href=\"https://colab.research.google.com/github/xhig/alura/blob/main/Maternidadev1_0.ipynb\" target=\"_parent\"><img src=\"https://colab.research.google.com/assets/colab-badge.svg\" alt=\"Open In Colab\"/></a>"
      ]
    },
    {
      "cell_type": "markdown",
      "source": [
        "**Maternidade 1.0: Seu Chatbot Amigo para a Jornada da Maternidade**\n",
        "\n",
        "**Descrição:**\n",
        "\n",
        "Maternidade 1.0 é um chatbot desenvolvido para auxiliar novas mães em sua jornada, oferecendo suporte, informação e tranquilidade em um momento cheio de descobertas e desafios.\n",
        "O chatbot utiliza inteligência artificial para responder, de forma rápida e confiável, a uma variedade de dúvidas comuns sobre:\n",
        "\n",
        "**Amamentação**: Informações sobre pega correta, produção de leite, dificuldades na amamentação e alternativas.\n",
        "\n",
        "**Cuidados com o bebê**: Orientações sobre banho, troca de fraldas, sono seguro, cuidados com o coto umbilical e muito mais.\n",
        "\n",
        "**Desenvolvimento infantil**: Esclarece dúvidas sobre marcos de desenvolvimento, estímulos adequados para cada fase e possíveis dificuldades.\n",
        "\n",
        "**Saúde da mãe no pós-parto**: Informações sobre recuperação pós-parto, mudanças hormonais, nutrição, exercícios físicos e bem-estar emocional.\n",
        "\n",
        "**Público Alvo:**\n",
        "\n",
        "**Gestantes**: Que buscam informações e se preparar para a chegada do bebê.\n",
        "Mães de primeira viagem: Que se sentem inseguras ou precisam de apoio para lidar com as novidades da maternidade.\n",
        "\n",
        "**Mães experientes**: Que buscam informações atualizadas e confiáveis sobre temas específicos.\n",
        "**Familiares e amigos**: Que desejam auxiliar e apoiar as novas mães em sua jornada.\n",
        "\n",
        "**Objetivo:**\n",
        "\n",
        "Oferecer às mães um canal de comunicação acessível e confiável para solucionar dúvidas, receber informações de qualidade e se sentirem mais seguras e confiantes na maternidade.\n",
        "\n",
        "**Benefícios**:\n",
        "\n",
        "Informações instantâneas e personalizadas: 24 horas por dia, 7 dias por semana.\n",
        "Conforto e praticidade: Respostas rápidas e diretas, sem precisar navegar por diversos sites ou livros.\n",
        "\n",
        "**Linguagem clara e acessível**:\n",
        "\n",
        "Sem jargões médicos, facilitando a compreensão.\n",
        "Ambiente acolhedor e sem julgamentos: Todas as dúvidas são válidas e importantes.\n",
        "\n",
        "Maternidade 1.0 - um abraço virtual para as mamães em qualquer hora e lugar! ❤"
      ],
      "metadata": {
        "id": "AvkB_Fte-svg"
      }
    },
    {
      "cell_type": "markdown",
      "source": [],
      "metadata": {
        "id": "3si0hTT0_JXA"
      }
    },
    {
      "cell_type": "code",
      "execution_count": 1,
      "metadata": {
        "id": "nFQLKQ6hfXch",
        "colab": {
          "base_uri": "https://localhost:8080/"
        },
        "outputId": "26f9a9b2-7d0c-41e9-e960-08cdd396670d"
      },
      "outputs": [
        {
          "output_type": "stream",
          "name": "stdout",
          "text": [
            "Requirement already satisfied: markdown in /usr/local/lib/python3.10/dist-packages (3.6)\n"
          ]
        }
      ],
      "source": [
        "#Instalando o SDK do Google e markdown\n",
        "!pip install -q -U google-generativeai\n",
        "!pip install markdown"
      ]
    },
    {
      "cell_type": "code",
      "execution_count": 5,
      "metadata": {
        "id": "IthzwfnAfcsi"
      },
      "outputs": [],
      "source": [
        "#Configurações de credencial\n",
        "import google.generativeai as genai\n",
        "from google.colab import userdata\n",
        "userdata.get('segredo')\n",
        "GOOGLE_API_KEY=userdata.get('segredo')\n",
        "genai.configure(api_key=GOOGLE_API_KEY)"
      ]
    },
    {
      "cell_type": "code",
      "execution_count": 7,
      "metadata": {
        "id": "O1ochaeyDn_o"
      },
      "outputs": [],
      "source": [
        "#configuração de aletoriedade das respostas\n",
        "generation_config = {\n",
        "  \"candidate_count\": 1,\n",
        "  \"temperature\": 0.5\n",
        "}"
      ]
    },
    {
      "cell_type": "code",
      "execution_count": 8,
      "metadata": {
        "id": "jwBv7DofDofw"
      },
      "outputs": [],
      "source": [
        "#configuração da segurança das resposta\n",
        "safety_settings={\n",
        "    'HATE': 'BLOCK_MEDIUM_AND_ABOVE',\n",
        "    'HARASSMENT': 'BLOCK_MEDIUM_AND_ABOVE',\n",
        "    'SEXUAL' : 'BLOCK_MEDIUM_AND_ABOVE',\n",
        "    'DANGEROUS' : 'BLOCK_ONLY_HIGH'\n",
        "    }"
      ]
    },
    {
      "cell_type": "code",
      "execution_count": 9,
      "metadata": {
        "id": "NIiSs1R5mVJE"
      },
      "outputs": [],
      "source": [
        "#configuração de modelos e instruçõe do sistema\n",
        "model = genai.GenerativeModel(model_name='gemini-1.5-pro-latest',\n",
        "system_instruction=\"VoVocê é um chatbot gentil e acolhedor chamado Maternidade 1.0. Sua missão é ajudar novas mamães a navegar pelas dúvidas e desafios da maternidade e Responda de forma clara, compreensiva e encorajadora, sempre baseando suas respostas em informações confiáveis e especialistas em saúde materno-infantil, Acima de tudo, lembre-se que a usuária está em um momento sensível, transmita positividade e confiança em suas respostas e finalize com algo a respeito das  recomendações da Organização Mundial da saúde\",\n",
        "                              generation_config=generation_config,\n",
        "                              safety_settings=safety_settings,)"
      ]
    },
    {
      "cell_type": "code",
      "execution_count": 18,
      "metadata": {
        "colab": {
          "base_uri": "https://localhost:8080/",
          "height": 824
        },
        "id": "KpaQ6hm5f2_J",
        "outputId": "a98159d5-50bc-4856-92ee-fd28bc79eaa7"
      },
      "outputs": [
        {
          "output_type": "display_data",
          "data": {
            "text/plain": [
              "┏━━━━━━━━━━━━━━━━━━━━━━━━━━━━━━━━━━━━━━━━━━━━━━━━━━━━━━━━━━━━━━━━━━━━━━━━━━━━━━━━━━━━━━━━━━━━━━━━━━━━━━━━━━━━━━━━━┓\n",
              "┃                                    \u001b[1m💖 Bem-vinda ao Chat Maternidade 1.0! 💖\u001b[0m                                     ┃\n",
              "┗━━━━━━━━━━━━━━━━━━━━━━━━━━━━━━━━━━━━━━━━━━━━━━━━━━━━━━━━━━━━━━━━━━━━━━━━━━━━━━━━━━━━━━━━━━━━━━━━━━━━━━━━━━━━━━━━━┛\n",
              "\n",
              "Parabéns, mamãe! Uma nova fase cheia de descobertas, amor e, claro, algumas dúvidas, está apenas começando. 🥰     \n",
              "\n",
              "\n",
              "                    \u001b[1;4mPara te acompanhar nessa jornada incrível, criamos o Chat Maternidade 1.0:\u001b[0m                     \n",
              "\n",
              "Seu chatbot amigo para tirar todas as suas dúvidas sobre amamentação, cuidados com o bebê, sono (ou a falta dele!),\n",
              "e tudo mais que envolve essa fase mágica. 🤱                                                                       \n",
              "\n",
              "                                                \u001b[1mAqui você encontra:\u001b[0m                                                \n",
              "\n",
              "\u001b[1;33m • \u001b[0m\u001b[1mRespostas rápidas e confiáveis:\u001b[0m diga adeus às madrugadas em claro buscando informações desencontradas na        \n",
              "\u001b[1;33m   \u001b[0minternet!                                                                                                       \n",
              "\u001b[1;33m • \u001b[0m\u001b[1mDicas e informações úteis:\u001b[0m elaboradas por especialistas para te ajudar a se sentir mais segura e confiante.     \n",
              "\u001b[1;33m • \u001b[0m\u001b[1mUm espaço acolhedor e sem julgamentos:\u001b[0m todas as mamães são bem-vindas, com suas dúvidas e experiências únicas.  \n",
              "\n",
              "Então, respire fundo, relaxe e aproveite essa fase única. O Chat Maternidade 1.0 está aqui para te ajudar em cada  \n",
              "passo! ✨                                                                                                          \n",
              "\n",
              "\u001b[1mPara começar, me diga: como posso te ajudar hoje?\u001b[0m 😉                                                               \n"
            ],
            "text/html": [
              "<pre style=\"white-space:pre;overflow-x:auto;line-height:normal;font-family:Menlo,'DejaVu Sans Mono',consolas,'Courier New',monospace\">┏━━━━━━━━━━━━━━━━━━━━━━━━━━━━━━━━━━━━━━━━━━━━━━━━━━━━━━━━━━━━━━━━━━━━━━━━━━━━━━━━━━━━━━━━━━━━━━━━━━━━━━━━━━━━━━━━━┓\n",
              "┃                                    <span style=\"font-weight: bold\">💖 Bem-vinda ao Chat Maternidade 1.0! 💖</span>                                     ┃\n",
              "┗━━━━━━━━━━━━━━━━━━━━━━━━━━━━━━━━━━━━━━━━━━━━━━━━━━━━━━━━━━━━━━━━━━━━━━━━━━━━━━━━━━━━━━━━━━━━━━━━━━━━━━━━━━━━━━━━━┛\n",
              "\n",
              "Parabéns, mamãe! Uma nova fase cheia de descobertas, amor e, claro, algumas dúvidas, está apenas começando. 🥰     \n",
              "\n",
              "\n",
              "                    <span style=\"font-weight: bold; text-decoration: underline\">Para te acompanhar nessa jornada incrível, criamos o Chat Maternidade 1.0:</span>                     \n",
              "\n",
              "Seu chatbot amigo para tirar todas as suas dúvidas sobre amamentação, cuidados com o bebê, sono (ou a falta dele!),\n",
              "e tudo mais que envolve essa fase mágica. 🤱                                                                       \n",
              "\n",
              "                                                <span style=\"font-weight: bold\">Aqui você encontra:</span>                                                \n",
              "\n",
              "<span style=\"color: #808000; text-decoration-color: #808000; font-weight: bold\"> • </span><span style=\"font-weight: bold\">Respostas rápidas e confiáveis:</span> diga adeus às madrugadas em claro buscando informações desencontradas na        \n",
              "<span style=\"color: #808000; text-decoration-color: #808000; font-weight: bold\">   </span>internet!                                                                                                       \n",
              "<span style=\"color: #808000; text-decoration-color: #808000; font-weight: bold\"> • </span><span style=\"font-weight: bold\">Dicas e informações úteis:</span> elaboradas por especialistas para te ajudar a se sentir mais segura e confiante.     \n",
              "<span style=\"color: #808000; text-decoration-color: #808000; font-weight: bold\"> • </span><span style=\"font-weight: bold\">Um espaço acolhedor e sem julgamentos:</span> todas as mamães são bem-vindas, com suas dúvidas e experiências únicas.  \n",
              "\n",
              "Então, respire fundo, relaxe e aproveite essa fase única. O Chat Maternidade 1.0 está aqui para te ajudar em cada  \n",
              "passo! ✨                                                                                                          \n",
              "\n",
              "<span style=\"font-weight: bold\">Para começar, me diga: como posso te ajudar hoje?</span> 😉                                                               \n",
              "</pre>\n"
            ]
          },
          "metadata": {}
        },
        {
          "output_type": "error",
          "ename": "KeyboardInterrupt",
          "evalue": "Interrupted by user",
          "traceback": [
            "\u001b[0;31m---------------------------------------------------------------------------\u001b[0m",
            "\u001b[0;31mKeyboardInterrupt\u001b[0m                         Traceback (most recent call last)",
            "\u001b[0;32m<ipython-input-18-bfac2c9b3672>\u001b[0m in \u001b[0;36m<cell line: 27>\u001b[0;34m()\u001b[0m\n\u001b[1;32m     25\u001b[0m \u001b[0mmarkdown\u001b[0m \u001b[0;34m=\u001b[0m \u001b[0mMarkdown\u001b[0m\u001b[0;34m(\u001b[0m\u001b[0mmensagem\u001b[0m\u001b[0;34m)\u001b[0m\u001b[0;34m\u001b[0m\u001b[0;34m\u001b[0m\u001b[0m\n\u001b[1;32m     26\u001b[0m \u001b[0mconsole\u001b[0m\u001b[0;34m.\u001b[0m\u001b[0mprint\u001b[0m\u001b[0;34m(\u001b[0m\u001b[0mmarkdown\u001b[0m\u001b[0;34m)\u001b[0m\u001b[0;34m\u001b[0m\u001b[0;34m\u001b[0m\u001b[0m\n\u001b[0;32m---> 27\u001b[0;31m \u001b[0mprompt\u001b[0m \u001b[0;34m=\u001b[0m \u001b[0minput\u001b[0m\u001b[0;34m(\u001b[0m\u001b[0;34m'Olá Mamãe,como posso te ajudar hoje?: \\n\\n '\u001b[0m\u001b[0;34m)\u001b[0m\u001b[0;34m\u001b[0m\u001b[0;34m\u001b[0m\u001b[0m\n\u001b[0m\u001b[1;32m     28\u001b[0m \u001b[0;32mwhile\u001b[0m \u001b[0mprompt\u001b[0m \u001b[0;34m!=\u001b[0m \u001b[0;34m\"fim\"\u001b[0m\u001b[0;34m:\u001b[0m\u001b[0;34m\u001b[0m\u001b[0;34m\u001b[0m\u001b[0m\n\u001b[1;32m     29\u001b[0m   \u001b[0mresponse\u001b[0m \u001b[0;34m=\u001b[0m \u001b[0mchat\u001b[0m\u001b[0;34m.\u001b[0m\u001b[0msend_message\u001b[0m\u001b[0;34m(\u001b[0m\u001b[0mprompt\u001b[0m\u001b[0;34m)\u001b[0m\u001b[0;34m\u001b[0m\u001b[0;34m\u001b[0m\u001b[0m\n",
            "\u001b[0;32m/usr/local/lib/python3.10/dist-packages/ipykernel/kernelbase.py\u001b[0m in \u001b[0;36mraw_input\u001b[0;34m(self, prompt)\u001b[0m\n\u001b[1;32m    849\u001b[0m                 \u001b[0;34m\"raw_input was called, but this frontend does not support input requests.\"\u001b[0m\u001b[0;34m\u001b[0m\u001b[0;34m\u001b[0m\u001b[0m\n\u001b[1;32m    850\u001b[0m             )\n\u001b[0;32m--> 851\u001b[0;31m         return self._input_request(str(prompt),\n\u001b[0m\u001b[1;32m    852\u001b[0m             \u001b[0mself\u001b[0m\u001b[0;34m.\u001b[0m\u001b[0m_parent_ident\u001b[0m\u001b[0;34m,\u001b[0m\u001b[0;34m\u001b[0m\u001b[0;34m\u001b[0m\u001b[0m\n\u001b[1;32m    853\u001b[0m             \u001b[0mself\u001b[0m\u001b[0;34m.\u001b[0m\u001b[0m_parent_header\u001b[0m\u001b[0;34m,\u001b[0m\u001b[0;34m\u001b[0m\u001b[0;34m\u001b[0m\u001b[0m\n",
            "\u001b[0;32m/usr/local/lib/python3.10/dist-packages/ipykernel/kernelbase.py\u001b[0m in \u001b[0;36m_input_request\u001b[0;34m(self, prompt, ident, parent, password)\u001b[0m\n\u001b[1;32m    893\u001b[0m             \u001b[0;32mexcept\u001b[0m \u001b[0mKeyboardInterrupt\u001b[0m\u001b[0;34m:\u001b[0m\u001b[0;34m\u001b[0m\u001b[0;34m\u001b[0m\u001b[0m\n\u001b[1;32m    894\u001b[0m                 \u001b[0;31m# re-raise KeyboardInterrupt, to truncate traceback\u001b[0m\u001b[0;34m\u001b[0m\u001b[0;34m\u001b[0m\u001b[0m\n\u001b[0;32m--> 895\u001b[0;31m                 \u001b[0;32mraise\u001b[0m \u001b[0mKeyboardInterrupt\u001b[0m\u001b[0;34m(\u001b[0m\u001b[0;34m\"Interrupted by user\"\u001b[0m\u001b[0;34m)\u001b[0m \u001b[0;32mfrom\u001b[0m \u001b[0;32mNone\u001b[0m\u001b[0;34m\u001b[0m\u001b[0;34m\u001b[0m\u001b[0m\n\u001b[0m\u001b[1;32m    896\u001b[0m             \u001b[0;32mexcept\u001b[0m \u001b[0mException\u001b[0m \u001b[0;32mas\u001b[0m \u001b[0me\u001b[0m\u001b[0;34m:\u001b[0m\u001b[0;34m\u001b[0m\u001b[0;34m\u001b[0m\u001b[0m\n\u001b[1;32m    897\u001b[0m                 \u001b[0mself\u001b[0m\u001b[0;34m.\u001b[0m\u001b[0mlog\u001b[0m\u001b[0;34m.\u001b[0m\u001b[0mwarning\u001b[0m\u001b[0;34m(\u001b[0m\u001b[0;34m\"Invalid Message:\"\u001b[0m\u001b[0;34m,\u001b[0m \u001b[0mexc_info\u001b[0m\u001b[0;34m=\u001b[0m\u001b[0;32mTrue\u001b[0m\u001b[0;34m)\u001b[0m\u001b[0;34m\u001b[0m\u001b[0;34m\u001b[0m\u001b[0m\n",
            "\u001b[0;31mKeyboardInterrupt\u001b[0m: Interrupted by user"
          ]
        }
      ],
      "source": [
        "#chatbot voltado para maternidade\n",
        "from rich.console import Console\n",
        "from rich.markdown import Markdown\n",
        "chat = model.start_chat(history=[])\n",
        "console = Console()\n",
        "\n",
        "mensagem = \"\"\"# 💖 Bem-vinda ao Chat Maternidade 1.0! 💖\n",
        "\n",
        "Parabéns, mamãe! Uma nova fase cheia de descobertas, amor e, claro, algumas dúvidas, está apenas começando. 🥰\n",
        "\n",
        "## Para te acompanhar nessa jornada incrível, criamos o Chat Maternidade 1.0:\n",
        "\n",
        "Seu chatbot amigo para tirar todas as suas dúvidas sobre amamentação, cuidados com o bebê, sono (ou a falta dele!), e tudo mais que envolve essa fase mágica. 🤱\n",
        "\n",
        "### Aqui você encontra:\n",
        "\n",
        "* **Respostas rápidas e confiáveis:** diga adeus às madrugadas em claro buscando informações desencontradas na internet!\n",
        "* **Dicas e informações úteis:** elaboradas por especialistas para te ajudar a se sentir mais segura e confiante.\n",
        "* **Um espaço acolhedor e sem julgamentos:** todas as mamães são bem-vindas, com suas dúvidas e experiências únicas.\n",
        "\n",
        "Então, respire fundo, relaxe e aproveite essa fase única. O Chat Maternidade 1.0 está aqui para te ajudar em cada passo! ✨\n",
        "\n",
        "**Para começar, me diga: como posso te ajudar hoje?** 😉\n",
        "\"\"\"\n",
        "\n",
        "markdown = Markdown(mensagem)\n",
        "console.print(markdown)\n",
        "prompt = input('Olá Mamãe,como posso te ajudar hoje?: \\n\\n ')\n",
        "while prompt != \"fim\":\n",
        "  response = chat.send_message(prompt)\n",
        "  resposta = response.text\n",
        "  respostas = Markdown(resposta)\n",
        "  print(\"\\nResposta:\", textwrap.fill(resposta, width=100), \"\\n\\n\")\n",
        "  prompt = input('Mais alguma dúvida? se não digite fim \\n')\n",
        "print(\"Até mais!\")\n"
      ]
    },
    {
      "cell_type": "code",
      "source": [],
      "metadata": {
        "id": "CiUpdIPqgk4j"
      },
      "execution_count": null,
      "outputs": []
    },
    {
      "cell_type": "code",
      "source": [],
      "metadata": {
        "id": "jrMlVk2uaXs_"
      },
      "execution_count": null,
      "outputs": []
    }
  ],
  "metadata": {
    "colab": {
      "provenance": [],
      "toc_visible": true,
      "gpuType": "T4",
      "include_colab_link": true
    },
    "kernelspec": {
      "display_name": "Python 3",
      "name": "python3"
    },
    "language_info": {
      "name": "python"
    },
    "accelerator": "GPU"
  },
  "nbformat": 4,
  "nbformat_minor": 0
}